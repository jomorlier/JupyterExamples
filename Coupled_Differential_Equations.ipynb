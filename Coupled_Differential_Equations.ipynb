{
 "cells": [
  {
   "cell_type": "markdown",
   "metadata": {},
   "source": [
    "# Solving multiple linear ordinary differential equations in Sympy"
   ]
  },
  {
   "cell_type": "markdown",
   "metadata": {},
   "source": [
    "Presume we wish to solve the coupled linear ordinary differential equations given by\n",
    "\n",
    "\\begin{align}\n",
    "3\\dot{x} &= y\\\\\n",
    "\\dot{y}&=-3y-15x+4u(t)\n",
    "\\end{align}\n",
    "where $u(t)$ is the step function and $x(0)=5$ and $y(0) = 10$. \n",
    "\n"
   ]
  },
  {
   "cell_type": "code",
   "execution_count": 1,
   "metadata": {
    "collapsed": true
   },
   "outputs": [],
   "source": [
    "%matplotlib inline\n",
    "\n",
    "# import symbolic capability to Python- namespace is a better idea in a more general code. \n",
    "from sympy import *\n",
    "\n",
    "# print things all pretty\n",
    "from sympy.abc import *\n",
    "init_printing()"
   ]
  },
  {
   "cell_type": "markdown",
   "metadata": {},
   "source": [
    "Need to define variables as symbolic for sympy to use them. "
   ]
  },
  {
   "cell_type": "code",
   "execution_count": 2,
   "metadata": {
    "collapsed": true
   },
   "outputs": [],
   "source": [
    "t, C1, C2= symbols(\"t C1 C2\")\n",
    "x, y =  symbols(\"x y\", cls = Function, Function = True)"
   ]
  },
  {
   "cell_type": "markdown",
   "metadata": {},
   "source": [
    "First we must define the governing equations as equalities or expressions. We have the option, I will do one each way for the sake of illustration, as opposed to simplicity. "
   ]
  },
  {
   "cell_type": "code",
   "execution_count": 3,
   "metadata": {},
   "outputs": [
    {
     "data": {
      "image/png": "[encoded data removed]",
      "text/latex": [
       "$$3 \\frac{d}{d t} x{\\left (t \\right )} = y{\\left (t \\right )}$$"
      ],
      "text/plain": [
       "  d              \n",
       "3⋅──(x(t)) = y(t)\n",
       "  dt             "
      ]
     },
     "execution_count": 3,
     "metadata": {},
     "output_type": "execute_result"
    }
   ],
   "source": [
    "eq1 = Eq(3 * diff(x(t), t), y(t))\n",
    "eq1"
   ]
  },
  {
   "cell_type": "markdown",
   "metadata": {},
   "source": [
    "I'd like to use the Heaviside function. It doesn't work, but I'm showing how I tried anyway. "
   ]
  },
  {
   "cell_type": "code",
   "execution_count": 4,
   "metadata": {
    "collapsed": true
   },
   "outputs": [],
   "source": [
    "import sympy.functions.special.delta_functions as sfuncs"
   ]
  },
  {
   "cell_type": "code",
   "execution_count": 5,
   "metadata": {},
   "outputs": [
    {
     "data": {
      "image/png": "[encoded data removed]",
      "text/latex": [
       "$$\\frac{d}{d t} y{\\left (t \\right )} = - 15 x{\\left (t \\right )} - 3 y{\\left (t \\right )} + 4$$"
      ],
      "text/plain": [
       "d                               \n",
       "──(y(t)) = -15⋅x(t) - 3⋅y(t) + 4\n",
       "dt                              "
      ]
     },
     "execution_count": 5,
     "metadata": {},
     "output_type": "execute_result"
    }
   ],
   "source": [
    "eq2 = Eq(diff(y(t),t), - 3 * y(t) - 15 * x(t) + 4 * sfuncs.Heaviside(t))\n",
    "# Note: Heaviside doesn't work for me in the solver, so I've left it here as \"proper\" but dokn't use it. \n",
    "eq2 = Eq(diff(y(t),t), - 3 * y(t) - 15 * x(t) + 4 * 1)\n",
    "eq2"
   ]
  },
  {
   "cell_type": "markdown",
   "metadata": {},
   "source": [
    "Solving the differential equations. The `ics = `... should apply the initial conditions. Doesn't work. Perhaps some day. "
   ]
  },
  {
   "cell_type": "code",
   "execution_count": 6,
   "metadata": {},
   "outputs": [
    {
     "data": {
      "image/png": "[encoded data removed]",
      "text/latex": [
       "$$\\left [ x{\\left (t \\right )} = \\frac{1}{3} \\left(C_{1} \\sin{\\left (\\frac{\\sqrt{11} t}{2} \\right )} + C_{2} \\cos{\\left (\\frac{\\sqrt{11} t}{2} \\right )}\\right) e^{- \\frac{3 t}{2}} + \\frac{4}{15}, \\quad y{\\left (t \\right )} = \\left(\\left(- \\frac{3 C_{1}}{2} - \\frac{\\sqrt{11} C_{2}}{2}\\right) \\sin{\\left (\\frac{\\sqrt{11} t}{2} \\right )} + \\left(\\frac{\\sqrt{11} C_{1}}{2} - \\frac{3 C_{2}}{2}\\right) \\cos{\\left (\\frac{\\sqrt{11} t}{2} \\right )}\\right) e^{- \\frac{3 t}{2}}\\right ]$$"
      ],
      "text/plain": [
       "⎡                                        -3⋅t                                 \n",
       "⎢                                        ─────                                \n",
       "⎢       ⎛      ⎛√11⋅t⎞         ⎛√11⋅t⎞⎞    2                                  \n",
       "⎢       ⎜C₁⋅sin⎜─────⎟ + C₂⋅cos⎜─────⎟⎟⋅ℯ                                     \n",
       "⎢       ⎝      ⎝  2  ⎠         ⎝  2  ⎠⎠          4          ⎛⎛  3⋅C₁   √11⋅C₂⎞\n",
       "⎢x(t) = ────────────────────────────────────── + ──, y(t) = ⎜⎜- ──── - ──────⎟\n",
       "⎣                         3                      15         ⎝⎝   2       2   ⎠\n",
       "\n",
       "                                                ⎤\n",
       "                                                ⎥\n",
       "                                           -3⋅t ⎥\n",
       "                                           ─────⎥\n",
       "    ⎛√11⋅t⎞   ⎛√11⋅C₁   3⋅C₂⎞    ⎛√11⋅t⎞⎞    2  ⎥\n",
       "⋅sin⎜─────⎟ + ⎜────── - ────⎟⋅cos⎜─────⎟⎟⋅ℯ     ⎥\n",
       "    ⎝  2  ⎠   ⎝  2       2  ⎠    ⎝  2  ⎠⎠       ⎦"
      ]
     },
     "execution_count": 6,
     "metadata": {},
     "output_type": "execute_result"
    }
   ],
   "source": [
    "soln = dsolve((eq1, eq2), ics = {x: 5, y: 0})\n",
    "soln"
   ]
  },
  {
   "cell_type": "markdown",
   "metadata": {},
   "source": [
    "Solving for the constants. I'm substituting `t = 0`, then the initial values for `x` and `y`. You'll note that the first equation doesn't need `y(0)` substituted, while the second doesn't need `x(0)` substituted. I found this out after and did that for brevity.   "
   ]
  },
  {
   "cell_type": "code",
   "execution_count": 7,
   "metadata": {},
   "outputs": [
    {
     "data": {
      "image/png": "[encoded data removed]",
      "text/latex": [
       "$$\\left \\{ C_{1} : \\frac{313 \\sqrt{11}}{55}, \\quad C_{2} : \\frac{71}{5}\\right \\}$$"
      ],
      "text/plain": [
       "⎧    313⋅√11          ⎫\n",
       "⎨C₁: ───────, C₂: 71/5⎬\n",
       "⎩       55            ⎭"
      ]
     },
     "execution_count": 7,
     "metadata": {},
     "output_type": "execute_result"
    }
   ],
   "source": [
    "constants = solve((soln[0].subs(t,0).subs(x(0),5), soln[1].subs(t,0).subs(y(0),10)),{C1,C2})\n",
    "constants"
   ]
  },
  {
   "cell_type": "markdown",
   "metadata": {},
   "source": [
    "Let's put in our constants and see what we get. I'm using `.rhs` to pull out the right side of the solution. You can look at `soln[0]` to see what I mean, or try `help(soln[0])` and read the results.  "
   ]
  },
  {
   "cell_type": "code",
   "execution_count": 8,
   "metadata": {},
   "outputs": [
    {
     "data": {
      "image/png": "[encoded data removed]",
      "text/latex": [
       "$$\\frac{4}{15} + \\frac{313 \\sqrt{11}}{165} e^{- \\frac{3 t}{2}} \\sin{\\left (\\frac{\\sqrt{11} t}{2} \\right )} + \\frac{71}{15} e^{- \\frac{3 t}{2}} \\cos{\\left (\\frac{\\sqrt{11} t}{2} \\right )}$$"
      ],
      "text/plain": [
       "              -3⋅t                   -3⋅t            \n",
       "              ─────                  ─────           \n",
       "                2      ⎛√11⋅t⎞         2      ⎛√11⋅t⎞\n",
       "     313⋅√11⋅ℯ     ⋅sin⎜─────⎟   71⋅ℯ     ⋅cos⎜─────⎟\n",
       "4                      ⎝  2  ⎠                ⎝  2  ⎠\n",
       "── + ───────────────────────── + ────────────────────\n",
       "15              165                       15         "
      ]
     },
     "execution_count": 8,
     "metadata": {},
     "output_type": "execute_result"
    }
   ],
   "source": [
    "xsoln = expand(soln[0].rhs.subs(constants))\n",
    "xsoln"
   ]
  },
  {
   "cell_type": "code",
   "execution_count": 9,
   "metadata": {},
   "outputs": [
    {
     "data": {
      "image/png": "[encoded data removed]",
      "text/latex": [
       "$$\\left(- \\frac{172 \\sqrt{11}}{11} \\sin{\\left (\\frac{\\sqrt{11} t}{2} \\right )} + 10 \\cos{\\left (\\frac{\\sqrt{11} t}{2} \\right )}\\right) e^{- \\frac{3 t}{2}}$$"
      ],
      "text/plain": [
       "⎛             ⎛√11⋅t⎞                ⎞  -3⋅t \n",
       "⎜  172⋅√11⋅sin⎜─────⎟                ⎟  ─────\n",
       "⎜             ⎝  2  ⎠         ⎛√11⋅t⎞⎟    2  \n",
       "⎜- ────────────────── + 10⋅cos⎜─────⎟⎟⋅ℯ     \n",
       "⎝          11                 ⎝  2  ⎠⎠       "
      ]
     },
     "execution_count": 9,
     "metadata": {},
     "output_type": "execute_result"
    }
   ],
   "source": [
    "ysoln = soln[1].rhs.subs(constants)\n",
    "ysoln"
   ]
  },
  {
   "cell_type": "code",
   "execution_count": 10,
   "metadata": {},
   "outputs": [
    {
     "data": {
      "image/png": "[encoded data removed]",
      "text/latex": [
       "$$3 \\frac{d}{d t}\\left(\\frac{4}{15} + \\frac{313 \\sqrt{11}}{165} e^{- \\frac{3 t}{2}} \\sin{\\left (\\frac{\\sqrt{11} t}{2} \\right )} + \\frac{71}{15} e^{- \\frac{3 t}{2}} \\cos{\\left (\\frac{\\sqrt{11} t}{2} \\right )}\\right) = \\left(- \\frac{172 \\sqrt{11}}{11} \\sin{\\left (\\frac{\\sqrt{11} t}{2} \\right )} + 10 \\cos{\\left (\\frac{\\sqrt{11} t}{2} \\right )}\\right) e^{- \\frac{3 t}{2}}$$"
      ],
      "text/plain": [
       "    ⎛              -3⋅t                   -3⋅t            ⎞                   \n",
       "    ⎜              ─────                  ─────           ⎟                   \n",
       "    ⎜                2      ⎛√11⋅t⎞         2      ⎛√11⋅t⎞⎟   ⎛             ⎛√\n",
       "    ⎜     313⋅√11⋅ℯ     ⋅sin⎜─────⎟   71⋅ℯ     ⋅cos⎜─────⎟⎟   ⎜  172⋅√11⋅sin⎜─\n",
       "  d ⎜4                      ⎝  2  ⎠                ⎝  2  ⎠⎟   ⎜             ⎝ \n",
       "3⋅──⎜── + ───────────────────────── + ────────────────────⎟ = ⎜- ─────────────\n",
       "  dt⎝15              165                       15         ⎠   ⎝          11   \n",
       "\n",
       "                             \n",
       "                             \n",
       "11⋅t⎞                ⎞  -3⋅t \n",
       "────⎟                ⎟  ─────\n",
       " 2  ⎠         ⎛√11⋅t⎞⎟    2  \n",
       "───── + 10⋅cos⎜─────⎟⎟⋅ℯ     \n",
       "              ⎝  2  ⎠⎠       "
      ]
     },
     "execution_count": 10,
     "metadata": {},
     "output_type": "execute_result"
    }
   ],
   "source": [
    "eq1.subs(x(t),xsoln).subs(y(t),ysoln)"
   ]
  },
  {
   "cell_type": "markdown",
   "metadata": {},
   "source": [
    "Is equation 1 true with this solution set?"
   ]
  },
  {
   "cell_type": "code",
   "execution_count": 11,
   "metadata": {},
   "outputs": [
    {
     "data": {
      "image/png": "[encoded data removed]",
      "text/latex": [
       "$$\\mathrm{True}$$"
      ],
      "text/plain": [
       "True"
      ]
     },
     "execution_count": 11,
     "metadata": {},
     "output_type": "execute_result"
    }
   ],
   "source": [
    "Eq(simplify(3*diff(xsoln,t)),simplify(ysoln))"
   ]
  },
  {
   "cell_type": "markdown",
   "metadata": {},
   "source": [
    "Is equation 2 true with this solution set?"
   ]
  },
  {
   "cell_type": "code",
   "execution_count": 12,
   "metadata": {
    "scrolled": true
   },
   "outputs": [
    {
     "data": {
      "image/png": "[encoded data removed]",
      "text/latex": [
       "$$\\mathrm{True}$$"
      ],
      "text/plain": [
       "True"
      ]
     },
     "execution_count": 12,
     "metadata": {},
     "output_type": "execute_result"
    }
   ],
   "source": [
    "Eq(simplify(diff(ysoln,t)),simplify(4-3*ysoln-15*xsoln))"
   ]
  },
  {
   "cell_type": "markdown",
   "metadata": {},
   "source": [
    "So that's it. Out answers are indeed given by"
   ]
  },
  {
   "cell_type": "code",
   "execution_count": 13,
   "metadata": {},
   "outputs": [
    {
     "data": {
      "image/png": "[encoded data removed]",
      "text/latex": [
       "$$x{\\left (t \\right )} = \\frac{4}{15} + \\frac{313 \\sqrt{11}}{165} e^{- \\frac{3 t}{2}} \\sin{\\left (\\frac{\\sqrt{11} t}{2} \\right )} + \\frac{71}{15} e^{- \\frac{3 t}{2}} \\cos{\\left (\\frac{\\sqrt{11} t}{2} \\right )}$$"
      ],
      "text/plain": [
       "                     -3⋅t                   -3⋅t            \n",
       "                     ─────                  ─────           \n",
       "                       2      ⎛√11⋅t⎞         2      ⎛√11⋅t⎞\n",
       "            313⋅√11⋅ℯ     ⋅sin⎜─────⎟   71⋅ℯ     ⋅cos⎜─────⎟\n",
       "       4                      ⎝  2  ⎠                ⎝  2  ⎠\n",
       "x(t) = ── + ───────────────────────── + ────────────────────\n",
       "       15              165                       15         "
      ]
     },
     "execution_count": 13,
     "metadata": {},
     "output_type": "execute_result"
    }
   ],
   "source": [
    "Eq(x(t),xsoln)"
   ]
  },
  {
   "cell_type": "markdown",
   "metadata": {},
   "source": [
    "and"
   ]
  },
  {
   "cell_type": "code",
   "execution_count": 14,
   "metadata": {},
   "outputs": [
    {
     "data": {
      "image/png": "[encoded data removed]",
      "text/latex": [
       "$$y{\\left (t \\right )} = \\left(- \\frac{172 \\sqrt{11}}{11} \\sin{\\left (\\frac{\\sqrt{11} t}{2} \\right )} + 10 \\cos{\\left (\\frac{\\sqrt{11} t}{2} \\right )}\\right) e^{- \\frac{3 t}{2}}$$"
      ],
      "text/plain": [
       "       ⎛             ⎛√11⋅t⎞                ⎞  -3⋅t \n",
       "       ⎜  172⋅√11⋅sin⎜─────⎟                ⎟  ─────\n",
       "       ⎜             ⎝  2  ⎠         ⎛√11⋅t⎞⎟    2  \n",
       "y(t) = ⎜- ────────────────── + 10⋅cos⎜─────⎟⎟⋅ℯ     \n",
       "       ⎝          11                 ⎝  2  ⎠⎠       "
      ]
     },
     "execution_count": 14,
     "metadata": {},
     "output_type": "execute_result"
    }
   ],
   "source": [
    "Eq(y(t),ysoln)"
   ]
  },
  {
   "cell_type": "code",
   "execution_count": null,
   "metadata": {
    "collapsed": true
   },
   "outputs": [],
   "source": []
  },
  {
   "cell_type": "code",
   "execution_count": null,
   "metadata": {
    "collapsed": true
   },
   "outputs": [],
   "source": []
  }
 ],
 "metadata": {
  "hide_input": false,
  "kernelspec": {
   "display_name": "Python 3",
   "language": "python",
   "name": "python3"
  },
  "language_info": {
   "codemirror_mode": {
    "name": "ipython",
    "version": 3
   },
   "file_extension": ".py",
   "mimetype": "text/x-python",
   "name": "python",
   "nbconvert_exporter": "python",
   "pygments_lexer": "ipython3",
   "version": "3.6.2"
  },
  "latex_envs": {
   "bibliofile": "biblio.bib",
   "cite_by": "apalike",
   "current_citInitial": 1,
   "eqLabelWithNumbers": true,
   "eqNumInitial": 0
  },
  "toc": {
   "nav_menu": {},
   "number_sections": true,
   "sideBar": true,
   "skip_h1_title": false,
   "toc_cell": false,
   "toc_position": {},
   "toc_section_display": "block",
   "toc_window_display": false
  },
  "varInspector": {
   "cols": {
    "lenName": 16,
    "lenType": 16,
    "lenVar": 40
   },
   "kernels_config": {
    "python": {
     "delete_cmd_postfix": "",
     "delete_cmd_prefix": "del ",
     "library": "var_list.py",
     "varRefreshCmd": "print(var_dic_list())"
    },
    "r": {
     "delete_cmd_postfix": ") ",
     "delete_cmd_prefix": "rm(",
     "library": "var_list.r",
     "varRefreshCmd": "cat(var_dic_list()) "
    }
   },
   "types_to_exclude": [
    "module",
    "function",
    "builtin_function_or_method",
    "instance",
    "_Feature"
   ],
   "window_display": false
  }
 },
 "nbformat": 4,
 "nbformat_minor": 1
}
