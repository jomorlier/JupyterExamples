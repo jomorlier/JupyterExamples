{
 "cells": [
  {
   "cell_type": "markdown",
   "metadata": {},
   "source": [
    "# Curve fitting experimental data\n",
    "\n",
    "Curve fitting data is a standard practice in creating physical models of observed phenomena. When an expected model form exists, we use that form and fit it the best we can. If there is too much error for our needs, we may ignore the physical model for the sake of expedience. If we have no physics-based model we are free to use what ever seems to work the best. Often  the solution presented is to plot data, pick two points, then get a line from that. Picking two points \"works\", but it's crass and defeats the point of collecting that much data. A much better way is to transform the data using log functions, find your parameters, and transform them appropriately from `log space`.\n",
    "\n",
    "# Fitting a line\n",
    "\n",
    "Let's start with a refresher for curve fitting $y=mx+b$. Our derivation led us to two equations and two unknowns. You may use those. With a modern computer (under 35 years old), the faster way is to do this with linear algebra. With Matlab, `polyfit` will do this for you. I will use this later. \n",
    "\n",
    "With linear algebra, we write the equations such that:\n",
    "\n",
    "$$y_i = m x_i + b$$\n",
    "\n",
    "Putting a bunch of these together, I can write them in matrix form as\n",
    "\n",
    "$$\\begin{bmatrix}\n",
    "y_1\\\\\n",
    "y_2\\\\\n",
    "y_3\\\\\n",
    "y_4\\\\\n",
    "\\vdots\n",
    "\\end{bmatrix}\n",
    "=\n",
    "\\begin{bmatrix}\n",
    "x_1& 1\\\\\n",
    "x_2& 1\\\\\n",
    "x_3& 1\\\\\n",
    "x_4& 1\\\\\n",
    "\\vdots&\\vdots\\\\\n",
    "\\end{bmatrix}\n",
    "\\begin{bmatrix}\n",
    "m\\\\\n",
    "b\\end{bmatrix}\n",
    "$$\n",
    "which for compactness we write as\n",
    "$$Y = X B$$\n",
    "\n",
    "Because $X$ is not square, we can instead pre-multiply by $X^T$ so that the matrix preceding $B$ is now square (specifically, for a line it is now a $2\\times 2$ matrix).\n",
    "\n",
    "$$X^TY=X^TXB$$\n",
    "\n",
    "Pre-multiplying both sides by $(X^TX)^{-1}$ we have\n",
    "\n",
    "$$(X^TX)^{-1}X^TY=B$$\n",
    "\n",
    "The elements of $B$ are $m$ and $b$. In Matlab, this would look something like\n",
    "\n",
    "```\n",
    ">> Y = [1;2;3;4]\n",
    "Y =\n",
    "   1\n",
    "   2\n",
    "   3\n",
    "   4\n",
    ">> x = [4;3;2;1]\n",
    "x =\n",
    "   4\n",
    "   3\n",
    "   2\n",
    "   1\n",
    ">> X = [x*0+1, x]\n",
    "X =\n",
    "   1   4\n",
    "   1   3\n",
    "   1   2\n",
    "   1   1\n",
    ">> B = (X'*X)\\X'*Y\n",
    "B =\n",
    "   5\n",
    "  -1\n",
    "```\n",
    "\n",
    "which means a $y$ intercept of $5$ an a slope of $1$. \n",
    "\n",
    "We could alternatively have used `polyfit` like this:\n",
    "\n",
    "```\n",
    ">> B = polyfit(x, Y,1)\n",
    "B =\n",
    "  -1.0000   5.0000\n",
    "```\n",
    "\n",
    "While this is certainly simpler, and **allowed for the course** it is limited in its flexibility compared to the detailed method which would allow you to fit a 2-D surface instead of just a line. \n",
    "\n",
    "To curve fit a parabola, you follow the same procedure as above, but starting with $y = a x^2 + b x + c$, or you use `polyfit` with the last parameter set to $2$. \n",
    "\n",
    "## Other forms\n",
    "\n",
    "### Power function\n",
    "\n",
    "I covered how to do this in class when you want a model of the form $y=bx^m$. \n",
    "\n",
    "Let's refresh:\n",
    "\n",
    "Start by taking the natural log of the equation. This yields\n",
    "\n",
    "$$\\ln(y)=\\ln(b)+m \\ln(x)$$ \n",
    "\n",
    "For simplicity, you could define $\\ln(y)=Y$, $\\ln(x)=X$, and $\\ln(b)=B$ so that the equation is  \n",
    "\n",
    "$$Y = m X + B$$\n",
    "\n",
    "The is the equation of a line. If you use the log of the data $x$ and $y$, and curve fit like you would a line, you obtain $m$ and $\\ln(b)$. Since $b=e^{B}=e^{\\ln(b)}$, if you can fit a line, you can get the parameters $b$ and $m$ for the model $y=bx^m$.\n",
    "\n",
    "### Exponential function\n",
    "\n",
    "Let's start by presuming a model of the form \n",
    "\n",
    "$$y = b e^{mx}$$\n",
    "\n",
    "Start by taking the natural log of the equation. This yields\n",
    "\n",
    "$$\\ln(y)=\\ln(b)+m x$$ \n",
    "\n",
    "For simplicity, you could define $\\ln(y)=Y$ and $\\ln(b)=B$ so that the equation is  \n",
    "\n",
    "$$Y = m x + B$$\n",
    "\n",
    "The is the equation of a line. If you use the $\\ln$ of the data $y$, and curve fit like you would a line, you obtain $m$ and $\\ln(b)$. Since $b=e^{B}=e^{\\ln(b)}$, if you can fit a line, you can get the parameters $b$ and $m$ for the model $y=be^{xm}$.\n",
    "\n",
    "In Matlab, this would look like\n",
    "\n",
    "```\n",
    "x = (0:10)'\n",
    "y =[3.0138902;\n",
    "   1.8036854;\n",
    "   1.0875830;\n",
    "   0.6749870;\n",
    "   0.4167889;\n",
    "   0.2215530;\n",
    "   0.1667404;\n",
    "   0.0906666;\n",
    "   0.0593329;\n",
    "   0.0275748;\n",
    "   0.0046658]\n",
    ">> B = polyfit(x, Y, 1)\n",
    "B =\n",
    "  -0.57030   1.30850\n",
    ">>> b = exp(B(2))\n",
    "b =  3.7006\n",
    "```\n",
    "\n",
    "Here, $1.30850$ is not the $y$ intercept but instead is the $\\ln$ of the coefficient to the exponential (still called $b$). So the equation is \n",
    "\n",
    "$$y(x) = 3.7006 e^{(-0.57030 x)}$$\n"
   ]
  },
  {
   "cell_type": "markdown",
   "metadata": {},
   "source": [
    "Most students in engineering schools seem to be using Matlab, so I have presented the code above in that form. I prefer Python. My blog already covers why so I won't repeat that. For this purpose, it is simply easier for me to generate the plot of the results in python. You can read or ignore the code at your discretion. "
   ]
  },
  {
   "cell_type": "code",
   "execution_count": 7,
   "metadata": {},
   "outputs": [],
   "source": [
    "%matplotlib inline\n",
    "import numpy as np\n",
    "import matplotlib.pyplot as plt"
   ]
  },
  {
   "cell_type": "code",
   "execution_count": 11,
   "metadata": {},
   "outputs": [],
   "source": [
    "x = np.linspace(0,10,11)\n",
    "y = np.array([3.0138902, 1.8036854, 1.0875830, 0.6749870, 0.4167889, 0.2215530, 0.1667404, 0.0906666, 0.0593329, 0.0275748, 0.0046658])"
   ]
  },
  {
   "cell_type": "code",
   "execution_count": 13,
   "metadata": {},
   "outputs": [
    {
     "data": {
      "text/plain": [
       "array([-0.5703016 ,  1.30849592])"
      ]
     },
     "execution_count": 13,
     "metadata": {},
     "output_type": "execute_result"
    }
   ],
   "source": [
    "np.polyfit(x,np.log(y), 1)"
   ]
  },
  {
   "cell_type": "code",
   "execution_count": 17,
   "metadata": {},
   "outputs": [
    {
     "data": {
      "image/png": "[encoded data removed]",
      "text/plain": [
       "<Figure size 432x288 with 1 Axes>"
      ]
     },
     "metadata": {
      "needs_background": "light"
     },
     "output_type": "display_data"
    }
   ],
   "source": [
    "plt.plot(x, y, '*', x, np.exp(1.30849592)*np.exp(-0.5703016*x))\n",
    "plt.xlabel('x')\n",
    "plt.ylabel('y')\n",
    "plt.title('Raw data and exponential curve fit of raw data.')\n",
    "plt.grid()"
   ]
  },
  {
   "cell_type": "code",
   "execution_count": null,
   "metadata": {},
   "outputs": [],
   "source": []
  }
 ],
 "metadata": {
  "author": "mes",
  "kernelspec": {
   "display_name": "Python 3",
   "language": "python",
   "name": "python3"
  },
  "language_info": {
   "codemirror_mode": {
    "name": "ipython",
    "version": 3
   },
   "file_extension": ".py",
   "mimetype": "text/x-python",
   "name": "python",
   "nbconvert_exporter": "python",
   "pygments_lexer": "ipython3",
   "version": "3.6.5"
  },
  "latex_envs": {
   "LaTeX_envs_menu_present": true,
   "autoclose": false,
   "autocomplete": true,
   "bibliofile": "biblio.bib",
   "cite_by": "apalike",
   "current_citInitial": 1,
   "eqLabelWithNumbers": true,
   "eqNumInitial": 1,
   "hotkeys": {
    "equation": "Ctrl-E",
    "itemize": "Ctrl-I"
   },
   "labels_anchors": false,
   "latex_user_defs": false,
   "report_style_numbering": false,
   "user_envs_cfg": false
  },
  "toc": {
   "base_numbering": 1,
   "nav_menu": {},
   "number_sections": true,
   "sideBar": true,
   "skip_h1_title": false,
   "title_cell": "Table of Contents",
   "title_sidebar": "Contents",
   "toc_cell": false,
   "toc_position": {},
   "toc_section_display": true,
   "toc_window_display": false
  },
  "varInspector": {
   "cols": {
    "lenName": 16,
    "lenType": 16,
    "lenVar": 40
   },
   "kernels_config": {
    "python": {
     "delete_cmd_postfix": "",
     "delete_cmd_prefix": "del ",
     "library": "var_list.py",
     "varRefreshCmd": "print(var_dic_list())"
    },
    "r": {
     "delete_cmd_postfix": ") ",
     "delete_cmd_prefix": "rm(",
     "library": "var_list.r",
     "varRefreshCmd": "cat(var_dic_list()) "
    }
   },
   "types_to_exclude": [
    "module",
    "function",
    "builtin_function_or_method",
    "instance",
    "_Feature"
   ],
   "window_display": false
  }
 },
 "nbformat": 4,
 "nbformat_minor": 2
}
