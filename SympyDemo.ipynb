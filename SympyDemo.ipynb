{
 "cells": [
  {
   "cell_type": "markdown",
   "metadata": {},
   "source": [
    "# A quick intro to Sympy\n",
    "\n",
    "\n",
    "This is a quick demo of Sympy, partly for you, but mostly for me. The [actual notebook](https://github.com/josephcslater/iPythonExamples/blob/master/SympyDemo.ipynb) is available on my [github iPythonExamples repository](https://github.com/josephcslater/iPythonExamples)."
   ]
  },
  {
   "cell_type": "code",
   "execution_count": 1,
   "metadata": {
    "collapsed": false
   },
   "outputs": [],
   "source": [
    "# import symbolic capability to Python\n",
    "from sympy import *"
   ]
  },
  {
   "cell_type": "code",
   "execution_count": 2,
   "metadata": {
    "collapsed": false
   },
   "outputs": [],
   "source": [
    "# print things all pretty\n",
    "from sympy.abc import *\n",
    "init_printing()"
   ]
  },
  {
   "cell_type": "markdown",
   "metadata": {},
   "source": [
    "Consider solving the problem\n",
    "\n",
    "$y = \\frac{x^2\\sqrt{3x-2}}{(x+1)^2}$, find $\\frac{dy}{dx}$"
   ]
  },
  {
   "cell_type": "code",
   "execution_count": 3,
   "metadata": {
    "collapsed": false
   },
   "outputs": [],
   "source": [
    "# Need to define variables as symbolic for sympy to use them. \n",
    "x, y= symbols(\"x, y\", real = True)"
   ]
  },
  {
   "cell_type": "code",
   "execution_count": 12,
   "metadata": {
    "collapsed": false
   },
   "outputs": [
    {
     "data": {
      "image/png": "[encoded data removed]",
      "text/latex": [
       "$$\\frac{x^{2} \\sqrt{3 x - 2}}{\\left(x + 1\\right)^{2}}$$"
      ],
      "text/plain": [
       " 2   _________\n",
       "x ⋅╲╱ 3⋅x - 2 \n",
       "──────────────\n",
       "          2   \n",
       "   (x + 1)    "
      ]
     },
     "execution_count": 12,
     "metadata": {},
     "output_type": "execute_result"
    }
   ],
   "source": [
    "# Define y\n",
    "y = x**2*sqrt(3*x-2)/(x+1)**2\n",
    "y # This causes it to output formatted nicely. The print command formats it as computer code"
   ]
  },
  {
   "cell_type": "code",
   "execution_count": 10,
   "metadata": {
    "collapsed": false
   },
   "outputs": [
    {
     "data": {
      "image/png": "[encoded data removed]",
      "text/latex": [
       "$$\\log{\\left (\\frac{x^{2} \\sqrt{3 x - 2}}{\\left(x + 1\\right)^{2}} \\right )}$$"
      ],
      "text/plain": [
       "   ⎛ 2   _________⎞\n",
       "   ⎜x ⋅╲╱ 3⋅x - 2 ⎟\n",
       "log⎜──────────────⎟\n",
       "   ⎜          2   ⎟\n",
       "   ⎝   (x + 1)    ⎠"
      ]
     },
     "execution_count": 10,
     "metadata": {},
     "output_type": "execute_result"
    }
   ],
   "source": [
    "# Taking the natural log of this:\n",
    "a = ln(x**2*sqrt(3*x-2)/(x+1)**2)\n",
    "a # Keep in mind that the left hand side is ln(y)"
   ]
  },
  {
   "cell_type": "code",
   "execution_count": 6,
   "metadata": {
    "collapsed": false
   },
   "outputs": [
    {
     "data": {
      "image/png": "[encoded data removed]",
      "text/latex": [
       "$$\\frac{\\left(x + 1\\right)^{2}}{x^{2} \\sqrt{3 x - 2}} \\left(\\frac{3 x^{2}}{2 \\left(x + 1\\right)^{2} \\sqrt{3 x - 2}} - \\frac{2 x^{2} \\sqrt{3 x - 2}}{\\left(x + 1\\right)^{3}} + \\frac{2 x \\sqrt{3 x - 2}}{\\left(x + 1\\right)^{2}}\\right)$$"
      ],
      "text/plain": [
       "         ⎛            2               2   _________         _________⎞\n",
       "       2 ⎜         3⋅x             2⋅x ⋅╲╱ 3⋅x - 2    2⋅x⋅╲╱ 3⋅x - 2 ⎟\n",
       "(x + 1) ⋅⎜────────────────────── - ──────────────── + ───────────────⎟\n",
       "         ⎜         2   _________              3                  2   ⎟\n",
       "         ⎝2⋅(x + 1) ⋅╲╱ 3⋅x - 2        (x + 1)            (x + 1)    ⎠\n",
       "──────────────────────────────────────────────────────────────────────\n",
       "                             2   _________                            \n",
       "                            x ⋅╲╱ 3⋅x - 2                             "
      ]
     },
     "execution_count": 6,
     "metadata": {},
     "output_type": "execute_result"
    }
   ],
   "source": [
    "# Taking its derivative with respect to x\n",
    "# So, we took the log of the right side, then the derivative\n",
    "diff(a,x)"
   ]
  },
  {
   "cell_type": "code",
   "execution_count": 14,
   "metadata": {
    "collapsed": false
   },
   "outputs": [
    {
     "data": {
      "image/png": "[encoded data removed]",
      "text/latex": [
       "$$\\frac{3 x^{2} + 15 x - 8}{2 x \\left(3 x^{2} + x - 2\\right)}$$"
      ],
      "text/plain": [
       "    2             \n",
       " 3⋅x  + 15⋅x - 8  \n",
       "──────────────────\n",
       "    ⎛   2        ⎞\n",
       "2⋅x⋅⎝3⋅x  + x - 2⎠"
      ]
     },
     "execution_count": 14,
     "metadata": {},
     "output_type": "execute_result"
    }
   ],
   "source": [
    "# That is kind of messy. Let the computer simplify it\n",
    "simplify(diff(a,x))"
   ]
  },
  {
   "cell_type": "code",
   "execution_count": 16,
   "metadata": {
    "collapsed": false
   },
   "outputs": [
    {
     "data": {
      "image/png": "[encoded data removed]",
      "text/latex": [
       "$$\\frac{3 x^{2} + 15 x - 8}{2 x \\left(3 x^{2} + x - 2\\right)}$$"
      ],
      "text/plain": [
       "    2             \n",
       " 3⋅x  + 15⋅x - 8  \n",
       "──────────────────\n",
       "    ⎛   2        ⎞\n",
       "2⋅x⋅⎝3⋅x  + x - 2⎠"
      ]
     },
     "execution_count": 16,
     "metadata": {},
     "output_type": "execute_result"
    }
   ],
   "source": [
    "# We could have done this all at once\n",
    "simplify(diff(ln(y),x))"
   ]
  },
  {
   "cell_type": "markdown",
   "metadata": {},
   "source": [
    "Now, the left hand side processed the same way is\n",
    "$$y$$\n",
    "take the natural log\n",
    "$$\\ln(y)$$\n",
    "Take the derivative\n",
    "$$\\frac{1}{y}dy$$\n",
    "So, our entire processed equation is\n",
    "$$\\frac{1}{y}dy = \\frac{3 x^{2} + 15 x - 8}{2 x \\left(3 x^{2} + x - 2\\right)}$$\n",
    "so all we have to do is multiply the processed right side by $y$ and we have our answer and our derivative is"
   ]
  },
  {
   "cell_type": "code",
   "execution_count": 17,
   "metadata": {
    "collapsed": false
   },
   "outputs": [
    {
     "data": {
      "image/png": "[encoded data removed]",
      "text/latex": [
       "$$\\frac{x \\left(3 x^{2} + 15 x - 8\\right)}{2 \\sqrt{3 x - 2} \\left(x^{3} + 3 x^{2} + 3 x + 1\\right)}$$"
      ],
      "text/plain": [
       "          ⎛   2           ⎞        \n",
       "        x⋅⎝3⋅x  + 15⋅x - 8⎠        \n",
       "───────────────────────────────────\n",
       "    _________ ⎛ 3      2          ⎞\n",
       "2⋅╲╱ 3⋅x - 2 ⋅⎝x  + 3⋅x  + 3⋅x + 1⎠"
      ]
     },
     "execution_count": 17,
     "metadata": {},
     "output_type": "execute_result"
    }
   ],
   "source": [
    "simplify(diff(ln(y),x)*y)"
   ]
  },
  {
   "cell_type": "markdown",
   "metadata": {},
   "source": [
    "Of course, Sympy is capable enough that we can just take the derivative directly"
   ]
  },
  {
   "cell_type": "code",
   "execution_count": 19,
   "metadata": {
    "collapsed": false
   },
   "outputs": [
    {
     "data": {
      "image/png": "[encoded data removed]",
      "text/latex": [
       "$$\\frac{x \\left(3 x^{2} + 15 x - 8\\right)}{2 \\sqrt{3 x - 2} \\left(x^{3} + 3 x^{2} + 3 x + 1\\right)}$$"
      ],
      "text/plain": [
       "          ⎛   2           ⎞        \n",
       "        x⋅⎝3⋅x  + 15⋅x - 8⎠        \n",
       "───────────────────────────────────\n",
       "    _________ ⎛ 3      2          ⎞\n",
       "2⋅╲╱ 3⋅x - 2 ⋅⎝x  + 3⋅x  + 3⋅x + 1⎠"
      ]
     },
     "execution_count": 19,
     "metadata": {},
     "output_type": "execute_result"
    }
   ],
   "source": [
    "simplify(diff(y,x))"
   ]
  },
  {
   "cell_type": "markdown",
   "metadata": {},
   "source": [
    "but that was way too easy. \n",
    "\n",
    "We could compare them, just to be sure they are the same"
   ]
  },
  {
   "cell_type": "code",
   "execution_count": 21,
   "metadata": {
    "collapsed": false
   },
   "outputs": [
    {
     "data": {
      "text/plain": [
       "True"
      ]
     },
     "execution_count": 21,
     "metadata": {},
     "output_type": "execute_result"
    }
   ],
   "source": [
    "simplify(diff(y,x))==simplify(diff(ln(y),x)*y)"
   ]
  },
  {
   "cell_type": "markdown",
   "metadata": {},
   "source": [
    "Or plot this monstrosity"
   ]
  },
  {
   "cell_type": "code",
   "execution_count": 33,
   "metadata": {
    "collapsed": false
   },
   "outputs": [
    {
     "data": {
      "image/png": "[encoded data removed]",
      "text/plain": [
       "<matplotlib.figure.Figure at 0x109fb7828>"
      ]
     },
     "metadata": {},
     "output_type": "display_data"
    },
    {
     "data": {
      "text/plain": [
       "<sympy.plotting.plot.Plot at 0x109fb7c50>"
      ]
     },
     "execution_count": 33,
     "metadata": {},
     "output_type": "execute_result"
    }
   ],
   "source": [
    "plot((diff(y,x),(x,0.2,10)), (y, (x,0.5,10)))"
   ]
  },
  {
   "cell_type": "code",
   "execution_count": 75,
   "metadata": {
    "collapsed": false,
    "scrolled": true
   },
   "outputs": [
    {
     "data": {
      "image/png": "[encoded data removed]",
      "text/plain": [
       "<matplotlib.figure.Figure at 0x10b7b2a20>"
      ]
     },
     "metadata": {},
     "output_type": "display_data"
    }
   ],
   "source": [
    "# To change colors\n",
    "# show = False delays the plot until we can set all of the parameters\n",
    "# legend turns on the legend and uses the labels we have later. \n",
    "p = plot((diff(y,x),(x,0.2,10)), (y, (x,0.5,10)), show = False, legend = True)\n",
    "p[0].line_color = 'blue'\n",
    "p[0].label = '$\\\\frac{dy}{dx}$'\n",
    "p[1].line_color = 'green'\n",
    "p[1].label = '$y$'\n",
    "p.show()"
   ]
  },
  {
   "cell_type": "markdown",
   "metadata": {},
   "source": [
    "What if we wanted to make a substitution?"
   ]
  },
  {
   "cell_type": "code",
   "execution_count": 76,
   "metadata": {
    "collapsed": false
   },
   "outputs": [
    {
     "data": {
      "image/png": "[encoded data removed]",
      "text/latex": [
       "$$\\frac{\\alpha^{2} \\sqrt{3 \\alpha - 2}}{\\left(\\alpha + 1\\right)^{2}}$$"
      ],
      "text/plain": [
       " 2   _________\n",
       "α ⋅╲╱ 3⋅α - 2 \n",
       "──────────────\n",
       "          2   \n",
       "   (α + 1)    "
      ]
     },
     "execution_count": 76,
     "metadata": {},
     "output_type": "execute_result"
    }
   ],
   "source": [
    "y.subs(x,alpha)"
   ]
  },
  {
   "cell_type": "code",
   "execution_count": null,
   "metadata": {
    "collapsed": true
   },
   "outputs": [],
   "source": []
  }
 ],
 "metadata": {
  "hide_input": false,
  "kernelspec": {
   "display_name": "Python 3",
   "language": "python",
   "name": "python3"
  },
  "language_info": {
   "codemirror_mode": {
    "name": "ipython",
    "version": 3
   },
   "file_extension": ".py",
   "mimetype": "text/x-python",
   "name": "python",
   "nbconvert_exporter": "python",
   "pygments_lexer": "ipython3",
   "version": "3.5.2"
  },
  "latex_envs": {
   "bibliofile": "biblio.bib",
   "cite_by": "apalike",
   "current_citInitial": 1,
   "eqLabelWithNumbers": true,
   "eqNumInitial": 0
  }
 },
 "nbformat": 4,
 "nbformat_minor": 0
}
