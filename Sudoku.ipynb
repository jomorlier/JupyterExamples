{
 "cells": [
  {
   "cell_type": "markdown",
   "metadata": {},
   "source": [
    "\n",
    "[The Sudoku Problem Formulation for the PuLP Modeller](https://pythonhosted.org/PuLP/CaseStudies/a_sudoku_problem.html)\n",
    "\n",
    "Authors: Antony Phillips, Stuart Mitchell\n",
    "\n",
    "Jupyter Notebook: [Joseph C. Slater](http://josephcslater.github.io)"
   ]
  },
  {
   "cell_type": "code",
   "execution_count": 1,
   "metadata": {
    "collapsed": true
   },
   "outputs": [],
   "source": [
    "# Import PuLP modeler functions\n",
    "from pulp import *"
   ]
  },
  {
   "cell_type": "markdown",
   "metadata": {},
   "source": [
    "In the unique case of the Sudoku problem, the row names, column names and variable option values are all the exact same list of numbers (as strings) from “1” to “9”."
   ]
  },
  {
   "cell_type": "code",
   "execution_count": 2,
   "metadata": {
    "collapsed": true
   },
   "outputs": [],
   "source": [
    "# A list of strings from \"1\" to \"9\" is created\n",
    "Sequence = [\"1\", \"2\", \"3\", \"4\", \"5\", \"6\", \"7\", \"8\", \"9\"]"
   ]
  },
  {
   "cell_type": "code",
   "execution_count": 3,
   "metadata": {
    "collapsed": true
   },
   "outputs": [],
   "source": [
    "# The Vals, Rows and Cols sequences all follow this form\n",
    "Vals = Sequence\n",
    "Rows = Sequence\n",
    "Cols = Sequence"
   ]
  },
  {
   "cell_type": "markdown",
   "metadata": {},
   "source": [
    "A list called Boxes is created with 9 elements, each being another list. These 9 lists correspond to each of the 9 boxes, and each of the lists contains tuples as the elements with the row and column indices for each square in that box. Explicitly entering the values in a similar way to the following would have had the same effect (but would have been a waste of time):"
   ]
  },
  {
   "cell_type": "code",
   "execution_count": 4,
   "metadata": {
    "collapsed": true
   },
   "outputs": [],
   "source": [
    "# The boxes list is created, with the row and column index of each square in each box\n",
    "Boxes =[]\n",
    "for i in range(3):\n",
    "    for j in range(3):\n",
    "        Boxes += [[(Rows[3*i+k],Cols[3*j+l]) for k in range(3) for l in range(3)]]"
   ]
  },
  {
   "cell_type": "markdown",
   "metadata": {},
   "source": [
    "Therefore, Boxes[0] will return a list of tuples containing the locations of each of the 9 squares in the first box.\n",
    "\n",
    "The prob variable is created to contain the problem data. LpMinimize has the same effect as LpMaximise in this case."
   ]
  },
  {
   "cell_type": "code",
   "execution_count": 5,
   "metadata": {
    "collapsed": true
   },
   "outputs": [],
   "source": [
    "# The prob variable is created to contain the problem data        \n",
    "prob = LpProblem(\"Sudoku Problem\",LpMinimize)"
   ]
  },
  {
   "cell_type": "markdown",
   "metadata": {},
   "source": [
    "The 729 problem variables are created since the (Vals,Rows,Cols) creates a variable for each combination of value, row and column. An example variable would be: Choice_4_2_9, and it is defined to be a binary variable (able to take only the integers 1 or 0. If Choice_4_2_9 was 1, it would mean the number 4 was present in the square situated in row 2, column 9. (If it was 0, it would mean there was not a 4 there)"
   ]
  },
  {
   "cell_type": "code",
   "execution_count": 6,
   "metadata": {
    "collapsed": true
   },
   "outputs": [],
   "source": [
    "# The problem variables are created\n",
    "choices = LpVariable.dicts(\"Choice\",(Vals,Rows,Cols),0,1,LpInteger)"
   ]
  },
  {
   "cell_type": "markdown",
   "metadata": {},
   "source": [
    "As explained above, the objective function (what we try to change using the problem variables) is simply zero (constant) since we are only concerned with any variable combination that can satisfy the constraints."
   ]
  },
  {
   "cell_type": "code",
   "execution_count": 7,
   "metadata": {
    "collapsed": true
   },
   "outputs": [],
   "source": [
    "# The arbitrary objective function is added\n",
    "prob += 0, \"Arbitrary Objective Function\""
   ]
  },
  {
   "cell_type": "markdown",
   "metadata": {},
   "source": [
    "Since there are 9 variables for each square, it is important to specify that only exactly one of them can take the value of “1” (and the rest are “0”). Therefore, the below code reads: for each of the 81 squares, the sum of all the 9 variables (each representing a value that could be there) relating to that particular square must equal 1."
   ]
  },
  {
   "cell_type": "code",
   "execution_count": 8,
   "metadata": {
    "collapsed": true
   },
   "outputs": [],
   "source": [
    "# A constraint ensuring that only one value can be in each square is created\n",
    "for r in Rows:\n",
    "    for c in Cols:\n",
    "        prob += lpSum([choices[v][r][c] for v in Vals]) == 1, \"\""
   ]
  },
  {
   "cell_type": "markdown",
   "metadata": {},
   "source": [
    "These constraints ensure that each number (value) can only occur once in each row, column and box."
   ]
  },
  {
   "cell_type": "code",
   "execution_count": 9,
   "metadata": {
    "collapsed": true
   },
   "outputs": [],
   "source": [
    "# The row, column and box constraints are added for each value\n",
    "for v in Vals:\n",
    "    for r in Rows:\n",
    "        prob += lpSum([choices[v][r][c] for c in Cols]) == 1,\"\"\n",
    "        \n",
    "    for c in Cols:\n",
    "        prob += lpSum([choices[v][r][c] for r in Rows]) == 1,\"\"\n",
    "\n",
    "    for b in Boxes:\n",
    "        prob += lpSum([choices[v][r][c] for (r,c) in b]) == 1,\"\""
   ]
  },
  {
   "cell_type": "markdown",
   "metadata": {},
   "source": [
    "Consider the following sudoku problem:\n",
    "  \n",
    "<table >\n",
    "  <tr>\n",
    "    <td class=\"tg-yw4l\">5</td>\n",
    "    <td class=\"tg-yw4l\">3</td>\n",
    "    <td class=\"tg-yw4l\"></td>\n",
    "    <td class=\"tg-yw4l\"></td>\n",
    "    <td class=\"tg-yw4l\">7</td>\n",
    "    <td class=\"tg-yw4l\"></td>\n",
    "    <td class=\"tg-yw4l\"></td>\n",
    "    <td class=\"tg-yw4l\"></td>\n",
    "    <td class=\"tg-yw4l\"></td>\n",
    "  </tr>\n",
    "  <tr>\n",
    "    <td class=\"tg-yw4l\">6</td>\n",
    "    <td class=\"tg-yw4l\"></td>\n",
    "    <td class=\"tg-yw4l\"></td>\n",
    "    <td class=\"tg-yw4l\">1</td>\n",
    "    <td class=\"tg-yw4l\">9</td>\n",
    "    <td class=\"tg-yw4l\">5</td>\n",
    "    <td class=\"tg-yw4l\"></td>\n",
    "    <td class=\"tg-yw4l\"></td>\n",
    "    <td class=\"tg-yw4l\"></td>\n",
    "  </tr>\n",
    "  <tr>\n",
    "    <td class=\"tg-yw4l\"></td>\n",
    "    <td class=\"tg-yw4l\">9</td>\n",
    "    <td class=\"tg-yw4l\">8</td>\n",
    "    <td class=\"tg-yw4l\"></td>\n",
    "    <td class=\"tg-yw4l\"></td>\n",
    "    <td class=\"tg-yw4l\"></td>\n",
    "    <td class=\"tg-yw4l\"></td>\n",
    "    <td class=\"tg-yw4l\">6</td>\n",
    "    <td class=\"tg-yw4l\"></td>\n",
    "  </tr>\n",
    "  <tr>\n",
    "    <td class=\"tg-yw4l\">8</td>\n",
    "    <td class=\"tg-yw4l\"></td>\n",
    "    <td class=\"tg-yw4l\"></td>\n",
    "    <td class=\"tg-yw4l\"></td>\n",
    "    <td class=\"tg-yw4l\">6</td>\n",
    "    <td class=\"tg-yw4l\"></td>\n",
    "    <td class=\"tg-yw4l\"></td>\n",
    "    <td class=\"tg-yw4l\"></td>\n",
    "    <td class=\"tg-yw4l\">3</td>\n",
    "  </tr>\n",
    "  <tr>\n",
    "    <td class=\"tg-yw4l\">4</td>\n",
    "    <td class=\"tg-yw4l\"></td>\n",
    "    <td class=\"tg-yw4l\"></td>\n",
    "    <td class=\"tg-yw4l\">8</td>\n",
    "    <td class=\"tg-yw4l\"></td>\n",
    "    <td class=\"tg-yw4l\">3</td>\n",
    "    <td class=\"tg-yw4l\"></td>\n",
    "    <td class=\"tg-yw4l\"></td>\n",
    "    <td class=\"tg-yw4l\">1</td>\n",
    "  </tr>\n",
    "  <tr>\n",
    "    <td class=\"tg-yw4l\">7</td>\n",
    "    <td class=\"tg-yw4l\"></td>\n",
    "    <td class=\"tg-yw4l\"></td>\n",
    "    <td class=\"tg-yw4l\"></td>\n",
    "    <td class=\"tg-yw4l\">2</td>\n",
    "    <td class=\"tg-yw4l\"></td>\n",
    "    <td class=\"tg-yw4l\"></td>\n",
    "    <td class=\"tg-yw4l\"></td>\n",
    "    <td class=\"tg-yw4l\">6</td>\n",
    "  </tr>\n",
    "  <tr>\n",
    "    <td class=\"tg-yw4l\"></td>\n",
    "    <td class=\"tg-yw4l\">6</td>\n",
    "    <td class=\"tg-yw4l\"></td>\n",
    "    <td class=\"tg-yw4l\"></td>\n",
    "    <td class=\"tg-yw4l\"></td>\n",
    "    <td class=\"tg-yw4l\"></td>\n",
    "    <td class=\"tg-yw4l\">2</td>\n",
    "    <td class=\"tg-yw4l\">8</td>\n",
    "    <td class=\"tg-yw4l\"></td>\n",
    "  </tr>\n",
    "  <tr>\n",
    "    <td class=\"tg-yw4l\"></td>\n",
    "    <td class=\"tg-yw4l\"></td>\n",
    "    <td class=\"tg-yw4l\"></td>\n",
    "    <td class=\"tg-yw4l\">4</td>\n",
    "    <td class=\"tg-yw4l\">1</td>\n",
    "    <td class=\"tg-yw4l\">9</td>\n",
    "    <td class=\"tg-yw4l\"></td>\n",
    "    <td class=\"tg-yw4l\"></td>\n",
    "    <td class=\"tg-yw4l\">5</td>\n",
    "  </tr>\n",
    "  <tr>\n",
    "    <td class=\"tg-yw4l\"></td>\n",
    "    <td class=\"tg-yw4l\"></td>\n",
    "    <td class=\"tg-yw4l\"></td>\n",
    "    <td class=\"tg-yw4l\"></td>\n",
    "    <td class=\"tg-yw4l\">8</td>\n",
    "    <td class=\"tg-yw4l\"></td>\n",
    "    <td class=\"tg-yw4l\"></td>\n",
    "    <td class=\"tg-yw4l\">7</td>\n",
    "    <td class=\"tg-yw4l\">9</td>\n",
    "  </tr>\n",
    "</table>"
   ]
  },
  {
   "cell_type": "markdown",
   "metadata": {},
   "source": [
    "The starting numbers are entered as constraints i.e a “5” in row “1” column “1” is true."
   ]
  },
  {
   "cell_type": "code",
   "execution_count": 10,
   "metadata": {
    "collapsed": true
   },
   "outputs": [],
   "source": [
    "# The starting numbers are entered as constraints                \n",
    "prob += choices[\"5\"][\"1\"][\"1\"] == 1,\"\"\n",
    "prob += choices[\"6\"][\"2\"][\"1\"] == 1,\"\"\n",
    "prob += choices[\"8\"][\"4\"][\"1\"] == 1,\"\"\n",
    "prob += choices[\"4\"][\"5\"][\"1\"] == 1,\"\"\n",
    "prob += choices[\"7\"][\"6\"][\"1\"] == 1,\"\"\n",
    "prob += choices[\"3\"][\"1\"][\"2\"] == 1,\"\"\n",
    "prob += choices[\"9\"][\"3\"][\"2\"] == 1,\"\"\n",
    "prob += choices[\"6\"][\"7\"][\"2\"] == 1,\"\"\n",
    "prob += choices[\"8\"][\"3\"][\"3\"] == 1,\"\"\n",
    "prob += choices[\"1\"][\"2\"][\"4\"] == 1,\"\"\n",
    "prob += choices[\"8\"][\"5\"][\"4\"] == 1,\"\"\n",
    "prob += choices[\"4\"][\"8\"][\"4\"] == 1,\"\"\n",
    "prob += choices[\"7\"][\"1\"][\"5\"] == 1,\"\"\n",
    "prob += choices[\"9\"][\"2\"][\"5\"] == 1,\"\"\n",
    "prob += choices[\"6\"][\"4\"][\"5\"] == 1,\"\"\n",
    "prob += choices[\"2\"][\"6\"][\"5\"] == 1,\"\"\n",
    "prob += choices[\"1\"][\"8\"][\"5\"] == 1,\"\"\n",
    "prob += choices[\"8\"][\"9\"][\"5\"] == 1,\"\"\n",
    "prob += choices[\"5\"][\"2\"][\"6\"] == 1,\"\"\n",
    "prob += choices[\"3\"][\"5\"][\"6\"] == 1,\"\"\n",
    "prob += choices[\"9\"][\"8\"][\"6\"] == 1,\"\"\n",
    "prob += choices[\"2\"][\"7\"][\"7\"] == 1,\"\"\n",
    "prob += choices[\"6\"][\"3\"][\"8\"] == 1,\"\"\n",
    "prob += choices[\"8\"][\"7\"][\"8\"] == 1,\"\"\n",
    "prob += choices[\"7\"][\"9\"][\"8\"] == 1,\"\"\n",
    "prob += choices[\"3\"][\"4\"][\"9\"] == 1,\"\"\n",
    "prob += choices[\"1\"][\"5\"][\"9\"] == 1,\"\"\n",
    "prob += choices[\"6\"][\"6\"][\"9\"] == 1,\"\"\n",
    "prob += choices[\"5\"][\"8\"][\"9\"] == 1,\"\""
   ]
  },
  {
   "cell_type": "markdown",
   "metadata": {},
   "source": [
    "The problem is written to an LP file, solved using CPLEX (due to CPLEX’s simple output) and the solution status is printed to the screen"
   ]
  },
  {
   "cell_type": "code",
   "execution_count": 11,
   "metadata": {
    "collapsed": true
   },
   "outputs": [],
   "source": [
    "# The problem data is written to an .lp file\n",
    "prob.writeLP(\"Sudoku.lp\")"
   ]
  },
  {
   "cell_type": "code",
   "execution_count": 12,
   "metadata": {
    "collapsed": false
   },
   "outputs": [
    {
     "data": {
      "text/plain": [
       "1"
      ]
     },
     "execution_count": 12,
     "metadata": {},
     "output_type": "execute_result"
    }
   ],
   "source": [
    "# The problem is solved using PuLP's choice of Solver\n",
    "prob.solve()"
   ]
  },
  {
   "cell_type": "code",
   "execution_count": 13,
   "metadata": {
    "collapsed": false
   },
   "outputs": [
    {
     "name": "stdout",
     "output_type": "stream",
     "text": [
      "Status: Optimal\n"
     ]
    }
   ],
   "source": [
    "# The status of the solution is printed to the screen\n",
    "print(\"Status:\", LpStatus[prob.status])"
   ]
  },
  {
   "cell_type": "markdown",
   "metadata": {},
   "source": [
    "Instead of printing out all 729 of the binary problem variables and their respective values, it is most meaningful to draw the solution in a text file. The code also puts lines inbetween every third row and column to make the solution easier to read. The sudokuout.txt file is created in the same folder as the .py file.\n",
    "\n",
    "In this Jupyter Notebook, this is printed to the notebook output. "
   ]
  },
  {
   "cell_type": "code",
   "execution_count": 14,
   "metadata": {
    "collapsed": false
   },
   "outputs": [
    {
     "name": "stdout",
     "output_type": "stream",
     "text": [
      "+-------+-------+-------+\n",
      "| 5 3 4 | 6 7 8 | 9 1 2 |\n",
      "| 6 7 2 | 1 9 5 | 3 4 8 |\n",
      "| 1 9 8 | 3 4 2 | 5 6 7 |\n",
      "+-------+-------+-------+\n",
      "| 8 5 9 | 7 6 1 | 4 2 3 |\n",
      "| 4 2 6 | 8 5 3 | 7 9 1 |\n",
      "| 7 1 3 | 9 2 4 | 8 5 6 |\n",
      "+-------+-------+-------+\n",
      "| 9 6 1 | 5 3 7 | 2 8 4 |\n",
      "| 2 8 7 | 4 1 9 | 6 3 5 |\n",
      "| 3 4 5 | 2 8 6 | 1 7 9 |\n",
      "+-------+-------+-------+\n"
     ]
    }
   ],
   "source": [
    "for r in Rows:\n",
    "    a = \"\"\n",
    "    if r == \"1\" or r == \"4\" or r == \"7\":\n",
    "                    print(\"+-------+-------+-------+\")\n",
    "    for c in Cols:\n",
    "        for v in Vals:\n",
    "            if value(choices[v][r][c])==1:\n",
    "                               \n",
    "                if c == \"1\" or c == \"4\" or c ==\"7\":\n",
    "                    #print(\"| \")\n",
    "                    a = a + \"| \"\n",
    "                    \n",
    "                #print(v + \" \")\n",
    "                a = a + v + \" \"\n",
    "                \n",
    "                if c == \"9\":\n",
    "                    a = a + \"|\"\n",
    "                    print(a)\n",
    "print(\"+-------+-------+-------+\")  "
   ]
  }
 ],
 "metadata": {
  "hide_input": false,
  "kernelspec": {
   "display_name": "Python 3",
   "language": "python",
   "name": "python3"
  },
  "language_info": {
   "codemirror_mode": {
    "name": "ipython",
    "version": 3
   },
   "file_extension": ".py",
   "mimetype": "text/x-python",
   "name": "python",
   "nbconvert_exporter": "python",
   "pygments_lexer": "ipython3",
   "version": "3.5.2"
  },
  "latex_envs": {
   "bibliofile": "biblio.bib",
   "cite_by": "apalike",
   "current_citInitial": 1,
   "eqLabelWithNumbers": true,
   "eqNumInitial": 0
  }
 },
 "nbformat": 4,
 "nbformat_minor": 0
}
