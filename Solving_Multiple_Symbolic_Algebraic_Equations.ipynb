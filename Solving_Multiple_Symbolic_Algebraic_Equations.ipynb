{
 "cells": [
  {
   "cell_type": "markdown",
   "metadata": {},
   "source": [
    "# Solving Multiple Equations/Multiple Unknowns in SymPy\n",
    "\n",
    "Joseph C. Slater, Oct. 2018"
   ]
  },
  {
   "cell_type": "code",
   "execution_count": null,
   "metadata": {},
   "outputs": [],
   "source": [
    "# import symbolic capability to Python\n",
    "from sympy import *\n",
    "\n",
    "# print things all pretty. Not as important in this notebook. \n",
    "from sympy.abc import *\n",
    "init_printing()"
   ]
  },
  {
   "cell_type": "code",
   "execution_count": 24,
   "metadata": {},
   "outputs": [],
   "source": [
    "# Need to define the variables as symbolic for sympy to use them. \n",
    "x, y = symbols(\"x, y\", real = True)"
   ]
  },
  {
   "cell_type": "markdown",
   "metadata": {},
   "source": [
    "All of this is based on using the [general symbolic solvers](https://docs.sympy.org/latest/modules/solvers/solvers.html). They are not as robust as putting things in matrix form. A function to do that wouldn't be too hard, but would take a couple hours to make.\n",
    "\n",
    "Let's do a simple test case.\n",
    "\n",
    "$$ x^4 = 4$$\n",
    "\n",
    "Note that we have to solve it to be equal to zero, so we use the form\n",
    "\n",
    "$$x^4-4=0$$"
   ]
  },
  {
   "cell_type": "code",
   "execution_count": 15,
   "metadata": {},
   "outputs": [
    {
     "data": {
      "image/png": "[encoded data removed]",
      "text/latex": [
       "$$\\left [ -2, \\quad 2\\right ]$$"
      ],
      "text/plain": [
       "[-2, 2]"
      ]
     },
     "execution_count": 15,
     "metadata": {},
     "output_type": "execute_result"
    }
   ],
   "source": [
    "equation = x**2 - 4\n",
    "solve(equation, x)"
   ]
  },
  {
   "cell_type": "markdown",
   "metadata": {},
   "source": [
    "That worked. Let's make some equation. I'm going to store them in variable to make this easier to keep track of. \n",
    "\n",
    "Here we have\n",
    "\n",
    "$$3x + 4y - 5 = 0$$"
   ]
  },
  {
   "cell_type": "code",
   "execution_count": 20,
   "metadata": {},
   "outputs": [
    {
     "data": {
      "image/png": "[encoded data removed]",
      "text/latex": [
       "$$3 x + 4 y - 5$$"
      ],
      "text/plain": [
       "3⋅x + 4⋅y - 5"
      ]
     },
     "execution_count": 20,
     "metadata": {},
     "output_type": "execute_result"
    }
   ],
   "source": [
    "equation1 = 3*x + 4*y - 5\n",
    "equation1"
   ]
  },
  {
   "cell_type": "markdown",
   "metadata": {},
   "source": [
    "Now we have\n",
    "\n",
    "$$\n",
    "6x+7y-8=0\n",
    "$$"
   ]
  },
  {
   "cell_type": "code",
   "execution_count": 18,
   "metadata": {},
   "outputs": [
    {
     "data": {
      "image/png": "[encoded data removed]",
      "text/latex": [
       "$$6 x + 7 y - 8$$"
      ],
      "text/plain": [
       "6⋅x + 7⋅y - 8"
      ]
     },
     "execution_count": 18,
     "metadata": {},
     "output_type": "execute_result"
    }
   ],
   "source": [
    "equation2 = 6*x + 7*y - 8\n",
    "equation2"
   ]
  },
  {
   "cell_type": "markdown",
   "metadata": {},
   "source": [
    "``solve`` would like to be told which variables to solve for, but it can usually make a reasonable guess. \n",
    "\n",
    "The (seemingly) extra parentheses are because there is only a single argument being sent in, the list of equations: ``(equation1, equation2)``. "
   ]
  },
  {
   "cell_type": "code",
   "execution_count": 19,
   "metadata": {},
   "outputs": [
    {
     "data": {
      "image/png": "[encoded data removed]",
      "text/latex": [
       "$$\\left \\{ x : -1, \\quad y : 2\\right \\}$$"
      ],
      "text/plain": [
       "{x: -1, y: 2}"
      ]
     },
     "execution_count": 19,
     "metadata": {},
     "output_type": "execute_result"
    }
   ],
   "source": [
    "solve((equation1, equation2))"
   ]
  },
  {
   "cell_type": "markdown",
   "metadata": {},
   "source": [
    "Below I'm more explicit in sending it two arguments (two lists), the first is a list of equations, the second is a list of variables to solve for. "
   ]
  },
  {
   "cell_type": "code",
   "execution_count": 25,
   "metadata": {},
   "outputs": [
    {
     "data": {
      "image/png": "[encoded data removed]",
      "text/latex": [
       "$$\\left \\{ x : -1, \\quad y : 2\\right \\}$$"
      ],
      "text/plain": [
       "{x: -1, y: 2}"
      ]
     },
     "execution_count": 25,
     "metadata": {},
     "output_type": "execute_result"
    }
   ],
   "source": [
    "solve((equation1, equation2), (x, y))"
   ]
  },
  {
   "cell_type": "code",
   "execution_count": 23,
   "metadata": {},
   "outputs": [
    {
     "data": {
      "text/plain": [
       "True"
      ]
     },
     "execution_count": 23,
     "metadata": {},
     "output_type": "execute_result"
    }
   ],
   "source": [
    "checksol(equation1, {x: -1, y: 2})"
   ]
  },
  {
   "cell_type": "markdown",
   "metadata": {},
   "source": [
    "If the second equation had been nonlinear, such as\n",
    "\n",
    "$$6x+7y^2-8=0$$"
   ]
  },
  {
   "cell_type": "code",
   "execution_count": 26,
   "metadata": {},
   "outputs": [
    {
     "data": {
      "image/png": "[encoded data removed]",
      "text/latex": [
       "$$6 x + 7 y^{2} - 8$$"
      ],
      "text/plain": [
       "         2    \n",
       "6⋅x + 7⋅y  - 8"
      ]
     },
     "execution_count": 26,
     "metadata": {},
     "output_type": "execute_result"
    }
   ],
   "source": [
    "equation2 = 6*x + 7*y**2 - 8\n",
    "equation2"
   ]
  },
  {
   "cell_type": "markdown",
   "metadata": {},
   "source": [
    "We now get multiple solutions:"
   ]
  },
  {
   "cell_type": "code",
   "execution_count": 31,
   "metadata": {},
   "outputs": [
    {
     "data": {
      "image/png": "[encoded data removed]",
      "text/latex": [
       "$$\\left [ \\left \\{ x : - \\frac{4 \\sqrt{2}}{21} + \\frac{19}{21}, \\quad y : \\frac{\\sqrt{2}}{7} + \\frac{4}{7}\\right \\}, \\quad \\left \\{ x : \\frac{4 \\sqrt{2}}{21} + \\frac{19}{21}, \\quad y : - \\frac{\\sqrt{2}}{7} + \\frac{4}{7}\\right \\}\\right ]$$"
      ],
      "text/plain": [
       "⎡⎧     4⋅√2   19     √2   4⎫  ⎧   4⋅√2   19       √2   4⎫⎤\n",
       "⎢⎨x: - ──── + ──, y: ── + ─⎬, ⎨x: ──── + ──, y: - ── + ─⎬⎥\n",
       "⎣⎩      21    21     7    7⎭  ⎩    21    21       7    7⎭⎦"
      ]
     },
     "execution_count": 31,
     "metadata": {},
     "output_type": "execute_result"
    }
   ],
   "source": [
    "ans = solve((equation1, equation2))\n",
    "ans"
   ]
  },
  {
   "cell_type": "markdown",
   "metadata": {},
   "source": [
    "Engineers like decimals in most cases, so, if any number given were a float, we wouldn't get the square roots and all. "
   ]
  },
  {
   "cell_type": "code",
   "execution_count": 42,
   "metadata": {},
   "outputs": [
    {
     "data": {
      "image/png": "[encoded data removed]",
      "text/latex": [
       "$$6 x + 7 y^{2} - 8.0$$"
      ],
      "text/plain": [
       "         2      \n",
       "6⋅x + 7⋅y  - 8.0"
      ]
     },
     "execution_count": 42,
     "metadata": {},
     "output_type": "execute_result"
    }
   ],
   "source": [
    "equation2 = 6*x + 7*y**2 - 8.0\n",
    "equation2"
   ]
  },
  {
   "cell_type": "code",
   "execution_count": 43,
   "metadata": {},
   "outputs": [
    {
     "data": {
      "image/png": "[encoded data removed]",
      "text/latex": [
       "$$\\left [ \\left \\{ x : 0.635387892881315, \\quad y : 0.773459080339014\\right \\}, \\quad \\left \\{ x : 1.17413591664249, \\quad y : 0.369398062518129\\right \\}\\right ]$$"
      ],
      "text/plain": [
       "[{x: 0.635387892881315, y: 0.773459080339014}, {x: 1.17413591664249, y: 0.3693\n",
       "98062518129}]"
      ]
     },
     "execution_count": 43,
     "metadata": {},
     "output_type": "execute_result"
    }
   ],
   "source": [
    "solve((equation1, equation2))"
   ]
  },
  {
   "cell_type": "markdown",
   "metadata": {},
   "source": [
    "We can create an equation with two sides by using the ``Eq`` command as below. "
   ]
  },
  {
   "cell_type": "code",
   "execution_count": 40,
   "metadata": {},
   "outputs": [
    {
     "data": {
      "image/png": "[encoded data removed]",
      "text/latex": [
       "$$6 x + 7 y^{2} = 8.0$$"
      ],
      "text/plain": [
       "         2      \n",
       "6⋅x + 7⋅y  = 8.0"
      ]
     },
     "execution_count": 40,
     "metadata": {},
     "output_type": "execute_result"
    }
   ],
   "source": [
    "equation2 = Eq(6*x + 7*y**2 , 8.0)\n",
    "equation2"
   ]
  },
  {
   "cell_type": "code",
   "execution_count": 41,
   "metadata": {},
   "outputs": [
    {
     "data": {
      "image/png": "[encoded data removed]",
      "text/latex": [
       "$$\\left [ \\left \\{ x : 0.635387892881315, \\quad y : 0.773459080339014\\right \\}, \\quad \\left \\{ x : 1.17413591664249, \\quad y : 0.369398062518129\\right \\}\\right ]$$"
      ],
      "text/plain": [
       "[{x: 0.635387892881315, y: 0.773459080339014}, {x: 1.17413591664249, y: 0.3693\n",
       "98062518129}]"
      ]
     },
     "execution_count": 41,
     "metadata": {},
     "output_type": "execute_result"
    }
   ],
   "source": [
    "solve((equation1, equation2))"
   ]
  }
 ],
 "metadata": {
  "kernelspec": {
   "display_name": "Python 3",
   "language": "python",
   "name": "python3"
  },
  "language_info": {
   "codemirror_mode": {
    "name": "ipython",
    "version": 3
   },
   "file_extension": ".py",
   "mimetype": "text/x-python",
   "name": "python",
   "nbconvert_exporter": "python",
   "pygments_lexer": "ipython3",
   "version": "3.6.6"
  },
  "latex_envs": {
   "LaTeX_envs_menu_present": true,
   "autoclose": false,
   "autocomplete": true,
   "bibliofile": "biblio.bib",
   "cite_by": "apalike",
   "current_citInitial": 1,
   "eqLabelWithNumbers": true,
   "eqNumInitial": 1,
   "hotkeys": {
    "equation": "Ctrl-E",
    "itemize": "Ctrl-I"
   },
   "labels_anchors": false,
   "latex_user_defs": false,
   "report_style_numbering": false,
   "user_envs_cfg": false
  },
  "toc": {
   "base_numbering": 1,
   "nav_menu": {},
   "number_sections": true,
   "sideBar": true,
   "skip_h1_title": false,
   "title_cell": "Table of Contents",
   "title_sidebar": "Contents",
   "toc_cell": false,
   "toc_position": {},
   "toc_section_display": true,
   "toc_window_display": false
  },
  "varInspector": {
   "cols": {
    "lenName": 16,
    "lenType": 16,
    "lenVar": 40
   },
   "kernels_config": {
    "python": {
     "delete_cmd_postfix": "",
     "delete_cmd_prefix": "del ",
     "library": "var_list.py",
     "varRefreshCmd": "print(var_dic_list())"
    },
    "r": {
     "delete_cmd_postfix": ") ",
     "delete_cmd_prefix": "rm(",
     "library": "var_list.r",
     "varRefreshCmd": "cat(var_dic_list()) "
    }
   },
   "types_to_exclude": [
    "module",
    "function",
    "builtin_function_or_method",
    "instance",
    "_Feature"
   ],
   "window_display": false
  }
 },
 "nbformat": 4,
 "nbformat_minor": 2
}
