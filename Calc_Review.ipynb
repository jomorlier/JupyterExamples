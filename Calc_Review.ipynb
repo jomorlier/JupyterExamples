{
 "cells": [
  {
   "cell_type": "markdown",
   "metadata": {
    "deletable": true,
    "editable": true
   },
   "source": [
    "# Calculus Examples\n"
   ]
  },
  {
   "cell_type": "code",
   "execution_count": 1,
   "metadata": {
    "collapsed": false,
    "deletable": true,
    "editable": true
   },
   "outputs": [],
   "source": [
    "# import symbolic capability to Python\n",
    "from sympy import *"
   ]
  },
  {
   "cell_type": "code",
   "execution_count": 2,
   "metadata": {
    "collapsed": false,
    "deletable": true,
    "editable": true
   },
   "outputs": [],
   "source": [
    "# print things all pretty\n",
    "from sympy.abc import *\n",
    "init_printing()"
   ]
  },
  {
   "cell_type": "code",
   "execution_count": 3,
   "metadata": {
    "collapsed": false,
    "deletable": true,
    "editable": true
   },
   "outputs": [],
   "source": [
    "# Need to define variables as symbolic for sympy to use them. \n",
    "x, y= symbols(\"x, y\", real = True)"
   ]
  },
  {
   "cell_type": "code",
   "execution_count": 5,
   "metadata": {
    "collapsed": false,
    "deletable": true,
    "editable": true
   },
   "outputs": [
    {
     "data": {
      "image/png": "[encoded data removed]",
      "text/latex": [
       "$$36 x^{3} \\left(3 x^{4} + 5\\right)^{2}$$"
      ],
      "text/plain": [
       "                2\n",
       "    3 ⎛   4    ⎞ \n",
       "36⋅x ⋅⎝3⋅x  + 5⎠ "
      ]
     },
     "execution_count": 5,
     "metadata": {},
     "output_type": "execute_result"
    }
   ],
   "source": [
    "diff((3*x**4+5)**3,x)"
   ]
  },
  {
   "cell_type": "code",
   "execution_count": 6,
   "metadata": {
    "collapsed": false,
    "deletable": true,
    "editable": true
   },
   "outputs": [
    {
     "data": {
      "image/png": "[encoded data removed]",
      "text/latex": [
       "$$60 x^{2} \\left(5 x^{3} + 2\\right)^{3}$$"
      ],
      "text/plain": [
       "                3\n",
       "    2 ⎛   3    ⎞ \n",
       "60⋅x ⋅⎝5⋅x  + 2⎠ "
      ]
     },
     "execution_count": 6,
     "metadata": {},
     "output_type": "execute_result"
    }
   ],
   "source": [
    "diff((5*x**3+2)**4,x)"
   ]
  },
  {
   "cell_type": "code",
   "execution_count": 10,
   "metadata": {
    "collapsed": false,
    "deletable": true,
    "editable": true
   },
   "outputs": [
    {
     "data": {
      "image/png": "[encoded data removed]",
      "text/latex": [
       "$$\\frac{7}{\\left(2 x + 1\\right)^{2}}$$"
      ],
      "text/plain": [
       "    7     \n",
       "──────────\n",
       "         2\n",
       "(2⋅x + 1) "
      ]
     },
     "execution_count": 10,
     "metadata": {},
     "output_type": "execute_result"
    }
   ],
   "source": [
    "simplify(diff((3*x-2)/(2*x+1),x))"
   ]
  },
  {
   "cell_type": "code",
   "execution_count": 11,
   "metadata": {
    "collapsed": false,
    "deletable": true,
    "editable": true
   },
   "outputs": [
    {
     "data": {
      "image/png": "[encoded data removed]",
      "text/latex": [
       "$$- \\frac{3}{\\left(2 x + 1\\right)^{2}}$$"
      ],
      "text/plain": [
       "   -3     \n",
       "──────────\n",
       "         2\n",
       "(2⋅x + 1) "
      ]
     },
     "execution_count": 11,
     "metadata": {},
     "output_type": "execute_result"
    }
   ],
   "source": [
    "simplify(diff((1-x)/(2*x+1),x))"
   ]
  },
  {
   "cell_type": "code",
   "execution_count": 13,
   "metadata": {
    "collapsed": false,
    "deletable": true,
    "editable": true
   },
   "outputs": [
    {
     "data": {
      "image/png": "[encoded data removed]",
      "text/latex": [
       "$$- \\frac{4 x}{\\left(x^{2} - 3\\right)^{2}}$$"
      ],
      "text/plain": [
       "  -4⋅x   \n",
       "─────────\n",
       "        2\n",
       "⎛ 2    ⎞ \n",
       "⎝x  - 3⎠ "
      ]
     },
     "execution_count": 13,
     "metadata": {},
     "output_type": "execute_result"
    }
   ],
   "source": [
    "simplify(diff((0*x-2)/(3-x**2),x))"
   ]
  },
  {
   "cell_type": "code",
   "execution_count": 14,
   "metadata": {
    "collapsed": false,
    "deletable": true,
    "editable": true
   },
   "outputs": [
    {
     "data": {
      "image/png": "[encoded data removed]",
      "text/latex": [
       "$$\\frac{12 x}{\\left(2 x^{2} + 1\\right)^{4}}$$"
      ],
      "text/plain": [
       "    12⋅x   \n",
       "───────────\n",
       "          4\n",
       "⎛   2    ⎞ \n",
       "⎝2⋅x  + 1⎠ "
      ]
     },
     "execution_count": 14,
     "metadata": {},
     "output_type": "execute_result"
    }
   ],
   "source": [
    "simplify(diff((-1)/(2*x**2+1)**3,x))"
   ]
  },
  {
   "cell_type": "code",
   "execution_count": 15,
   "metadata": {
    "collapsed": false,
    "deletable": true,
    "editable": true
   },
   "outputs": [
    {
     "data": {
      "image/png": "[encoded data removed]",
      "text/latex": [
       "$$- \\frac{6 \\left(x + 1\\right)^{2}}{\\left(x - 1\\right)^{4}}$$"
      ],
      "text/plain": [
       "          2 \n",
       "-6⋅(x + 1)  \n",
       "────────────\n",
       "         4  \n",
       "  (x - 1)   "
      ]
     },
     "execution_count": 15,
     "metadata": {},
     "output_type": "execute_result"
    }
   ],
   "source": [
    "simplify(diff((x+1)**3/(x-1)**3,x))"
   ]
  },
  {
   "cell_type": "code",
   "execution_count": 17,
   "metadata": {
    "collapsed": false,
    "deletable": true,
    "editable": true
   },
   "outputs": [
    {
     "data": {
      "image/png": "[encoded data removed]",
      "text/latex": [
       "$$\\frac{3}{\\sqrt{6 x - 2}}$$"
      ],
      "text/plain": [
       "     3     \n",
       "───────────\n",
       "  _________\n",
       "╲╱ 6⋅x - 2 "
      ]
     },
     "execution_count": 17,
     "metadata": {},
     "output_type": "execute_result"
    }
   ],
   "source": [
    "simplify(diff(sqrt(6*x-2),x))"
   ]
  },
  {
   "cell_type": "code",
   "execution_count": 18,
   "metadata": {
    "collapsed": false,
    "deletable": true,
    "editable": true
   },
   "outputs": [
    {
     "data": {
      "image/png": "[encoded data removed]",
      "text/latex": [
       "$$\\frac{9 x - 2}{\\sqrt{3 x - 1}}$$"
      ],
      "text/plain": [
       "  9⋅x - 2  \n",
       "───────────\n",
       "  _________\n",
       "╲╱ 3⋅x - 1 "
      ]
     },
     "execution_count": 18,
     "metadata": {},
     "output_type": "execute_result"
    }
   ],
   "source": [
    "simplify(diff(2*x*sqrt(3*x-1),x))"
   ]
  },
  {
   "cell_type": "code",
   "execution_count": 20,
   "metadata": {
    "collapsed": false,
    "deletable": true,
    "editable": true
   },
   "outputs": [
    {
     "data": {
      "image/png": "[encoded data removed]",
      "text/latex": [
       "$$\\frac{1}{2 \\sqrt{x}} - \\frac{0.25}{x^{\\frac{3}{2}}}$$"
      ],
      "text/plain": [
       " 1     0.25\n",
       "──── - ────\n",
       "2⋅√x    3/2\n",
       "       x   "
      ]
     },
     "execution_count": 20,
     "metadata": {},
     "output_type": "execute_result"
    }
   ],
   "source": [
    "diff(sqrt(x)+1/2/sqrt(x),x)"
   ]
  },
  {
   "cell_type": "code",
   "execution_count": 21,
   "metadata": {
    "collapsed": false,
    "deletable": true,
    "editable": true
   },
   "outputs": [
    {
     "data": {
      "image/png": "[encoded data removed]",
      "text/latex": [
       "$$2.5 x^{1.5}$$"
      ],
      "text/plain": [
       "     1.5\n",
       "2.5⋅x   "
      ]
     },
     "execution_count": 21,
     "metadata": {},
     "output_type": "execute_result"
    }
   ],
   "source": [
    "simplify(diff(x**(5/2),x))"
   ]
  },
  {
   "cell_type": "code",
   "execution_count": 22,
   "metadata": {
    "collapsed": false,
    "deletable": true,
    "editable": true
   },
   "outputs": [
    {
     "data": {
      "image/png": "[encoded data removed]",
      "text/latex": [
       "$$\\frac{2 \\sqrt{t} + 1}{4 \\sqrt{t} \\sqrt{\\sqrt{t} + t}}$$"
      ],
      "text/plain": [
       "    2⋅√t + 1   \n",
       "───────────────\n",
       "       ________\n",
       "4⋅√t⋅╲╱ √t + t "
      ]
     },
     "execution_count": 22,
     "metadata": {},
     "output_type": "execute_result"
    }
   ],
   "source": [
    "simplify(diff(sqrt(t+sqrt(t)),t))"
   ]
  },
  {
   "cell_type": "code",
   "execution_count": 24,
   "metadata": {
    "collapsed": false,
    "deletable": true,
    "editable": true
   },
   "outputs": [
    {
     "data": {
      "image/png": "[encoded data removed]",
      "text/latex": [
       "$$7 x^{6} - 10 x^{4} + 12 x^{3} + 21 x^{2} - 14$$"
      ],
      "text/plain": [
       "   6       4       3       2     \n",
       "7⋅x  - 10⋅x  + 12⋅x  + 21⋅x  - 14"
      ]
     },
     "execution_count": 24,
     "metadata": {},
     "output_type": "execute_result"
    }
   ],
   "source": [
    "simplify(diff((3-2*x+x**3)*(x**4+7),x))"
   ]
  },
  {
   "cell_type": "code",
   "execution_count": 25,
   "metadata": {
    "collapsed": false,
    "deletable": true,
    "editable": true
   },
   "outputs": [
    {
     "data": {
      "image/png": "[encoded data removed]",
      "text/latex": [
       "$$5 t^{4} + 4 t^{3} + 3 t^{2} + 2 t + 1$$"
      ],
      "text/plain": [
       "   4      3      2          \n",
       "5⋅t  + 4⋅t  + 3⋅t  + 2⋅t + 1"
      ]
     },
     "execution_count": 25,
     "metadata": {},
     "output_type": "execute_result"
    }
   ],
   "source": [
    "simplify(diff((t**3+1)*(t**2+t+1),t))"
   ]
  },
  {
   "cell_type": "code",
   "execution_count": 28,
   "metadata": {
    "collapsed": false,
    "deletable": true,
    "editable": true
   },
   "outputs": [
    {
     "data": {
      "image/png": "[encoded data removed]",
      "text/latex": [
       "$$- 60 x^{4} \\left(- x^{3} + 2\\right)^{5} \\left(- 3 x^{5} + 1\\right)^{3} - 15 x^{2} \\left(- x^{3} + 2\\right)^{4} \\left(- 3 x^{5} + 1\\right)^{4}$$"
      ],
      "text/plain": [
       "                  5             3                   4             4\n",
       "      4 ⎛   3    ⎞  ⎛     5    ⎞        2 ⎛   3    ⎞  ⎛     5    ⎞ \n",
       "- 60⋅x ⋅⎝- x  + 2⎠ ⋅⎝- 3⋅x  + 1⎠  - 15⋅x ⋅⎝- x  + 2⎠ ⋅⎝- 3⋅x  + 1⎠ "
      ]
     },
     "execution_count": 28,
     "metadata": {},
     "output_type": "execute_result"
    }
   ],
   "source": [
    "(diff((-3*x**5+1)**4*(2-x**3)**5,x))"
   ]
  },
  {
   "cell_type": "code",
   "execution_count": 29,
   "metadata": {
    "collapsed": false,
    "deletable": true,
    "editable": true
   },
   "outputs": [
    {
     "data": {
      "image/png": "[encoded data removed]",
      "text/latex": [
       "$$\\frac{20 t}{\\left(t^{2} + 5\\right)^{2}}$$"
      ],
      "text/plain": [
       "   20⋅t  \n",
       "─────────\n",
       "        2\n",
       "⎛ 2    ⎞ \n",
       "⎝t  + 5⎠ "
      ]
     },
     "execution_count": 29,
     "metadata": {},
     "output_type": "execute_result"
    }
   ],
   "source": [
    "simplify(diff((t**2-5)/(t**2+5),t))"
   ]
  },
  {
   "cell_type": "code",
   "execution_count": 31,
   "metadata": {
    "collapsed": false,
    "deletable": true,
    "editable": true
   },
   "outputs": [
    {
     "data": {
      "image/png": "[encoded data removed]",
      "text/latex": [
       "$$\\frac{x^{4} + 14 x^{2} - 10 x - 8}{x^{4} + 8 x^{2} + 16}$$"
      ],
      "text/plain": [
       " 4       2           \n",
       "x  + 14⋅x  - 10⋅x - 8\n",
       "─────────────────────\n",
       "     4      2        \n",
       "    x  + 8⋅x  + 16   "
      ]
     },
     "execution_count": 31,
     "metadata": {},
     "output_type": "execute_result"
    }
   ],
   "source": [
    "simplify(diff((x**3-2*x+5)/(x**2+4),x))"
   ]
  },
  {
   "cell_type": "code",
   "execution_count": 32,
   "metadata": {
    "collapsed": false,
    "deletable": true,
    "editable": true
   },
   "outputs": [
    {
     "data": {
      "image/png": "[encoded data removed]",
      "text/latex": [
       "$$\\frac{\\left(2 x - 7\\right)^{2}}{\\left(x - 1\\right)^{6}} \\left(- 4 x + 29\\right)$$"
      ],
      "text/plain": [
       "                     2\n",
       "(-4⋅x + 29)⋅(2⋅x - 7) \n",
       "──────────────────────\n",
       "              6       \n",
       "       (x - 1)        "
      ]
     },
     "execution_count": 32,
     "metadata": {},
     "output_type": "execute_result"
    }
   ],
   "source": [
    "simplify(diff((2*x-7)**3/(x-1)**5,x))"
   ]
  },
  {
   "cell_type": "code",
   "execution_count": 33,
   "metadata": {
    "collapsed": false,
    "deletable": true,
    "editable": true
   },
   "outputs": [
    {
     "data": {
      "image/png": "[encoded data removed]",
      "text/latex": [
       "$$- \\frac{12 \\left(2 t + 1\\right)^{2}}{\\left(2 t - 1\\right)^{4}}$$"
      ],
      "text/plain": [
       "             2 \n",
       "-12⋅(2⋅t + 1)  \n",
       "───────────────\n",
       "            4  \n",
       "   (2⋅t - 1)   "
      ]
     },
     "execution_count": 33,
     "metadata": {},
     "output_type": "execute_result"
    }
   ],
   "source": [
    "simplify(diff(((2*t+1)/(2*t-1))**3,t))"
   ]
  },
  {
   "cell_type": "code",
   "execution_count": 36,
   "metadata": {
    "collapsed": false,
    "deletable": true,
    "editable": true
   },
   "outputs": [
    {
     "data": {
      "image/png": "[encoded data removed]",
      "text/latex": [
       "$$\\frac{495 x^{4} - 66}{\\left(3 x^{5} - 2 x + 7\\right)^{12}}$$"
      ],
      "text/plain": [
       "     ⎛    4    ⎞  \n",
       "  33⋅⎝15⋅x  - 2⎠  \n",
       "──────────────────\n",
       "                12\n",
       "⎛   5          ⎞  \n",
       "⎝3⋅x  - 2⋅x + 7⎠  "
      ]
     },
     "execution_count": 36,
     "metadata": {},
     "output_type": "execute_result"
    }
   ],
   "source": [
    "a = simplify(diff((-3)/(3*x**5-2*x+7)**11,x))\n",
    "a"
   ]
  },
  {
   "cell_type": "code",
   "execution_count": 37,
   "metadata": {
    "collapsed": false,
    "deletable": true,
    "editable": true
   },
   "outputs": [
    {
     "data": {
      "text/plain": [
       "False"
      ]
     },
     "execution_count": 37,
     "metadata": {},
     "output_type": "execute_result"
    }
   ],
   "source": [
    "a == 33*(3*x**5-2*x+7)*(15*x**4-2)/(3*x**5-2*x+7)**22"
   ]
  },
  {
   "cell_type": "markdown",
   "metadata": {
    "deletable": true,
    "editable": true
   },
   "source": [
    "but that was way too easy. \n",
    "\n",
    "We could compare them, just to be sure they are the same"
   ]
  },
  {
   "cell_type": "code",
   "execution_count": 21,
   "metadata": {
    "collapsed": false,
    "deletable": true,
    "editable": true
   },
   "outputs": [
    {
     "data": {
      "text/plain": [
       "True"
      ]
     },
     "execution_count": 21,
     "metadata": {},
     "output_type": "execute_result"
    }
   ],
   "source": [
    "simplify(diff(y,x))==simplify(diff(ln(y),x)*y)"
   ]
  },
  {
   "cell_type": "markdown",
   "metadata": {
    "deletable": true,
    "editable": true
   },
   "source": [
    "Or plot this monstrosity"
   ]
  },
  {
   "cell_type": "code",
   "execution_count": 33,
   "metadata": {
    "collapsed": false,
    "deletable": true,
    "editable": true
   },
   "outputs": [
    {
     "data": {
      "image/png": "[encoded data removed]",
      "text/plain": [
       "<matplotlib.figure.Figure at 0x109fb7828>"
      ]
     },
     "metadata": {},
     "output_type": "display_data"
    },
    {
     "data": {
      "text/plain": [
       "<sympy.plotting.plot.Plot at 0x109fb7c50>"
      ]
     },
     "execution_count": 33,
     "metadata": {},
     "output_type": "execute_result"
    }
   ],
   "source": [
    "plot((diff(y,x),(x,0.2,10)), (y, (x,0.5,10)))"
   ]
  },
  {
   "cell_type": "code",
   "execution_count": 75,
   "metadata": {
    "collapsed": false,
    "deletable": true,
    "editable": true,
    "scrolled": true
   },
   "outputs": [
    {
     "data": {
      "image/png": "[encoded data removed]",
      "text/plain": [
       "<matplotlib.figure.Figure at 0x10b7b2a20>"
      ]
     },
     "metadata": {},
     "output_type": "display_data"
    }
   ],
   "source": [
    "# To change colors\n",
    "# show = False delays the plot until we can set all of the parameters\n",
    "# legend turns on the legend and uses the labels we have later. \n",
    "p = plot((diff(y,x),(x,0.2,10)), (y, (x,0.5,10)), show = False, legend = True)\n",
    "p[0].line_color = 'blue'\n",
    "p[0].label = '$\\\\frac{dy}{dx}$'\n",
    "p[1].line_color = 'green'\n",
    "p[1].label = '$y$'\n",
    "p.show()"
   ]
  },
  {
   "cell_type": "markdown",
   "metadata": {
    "deletable": true,
    "editable": true
   },
   "source": [
    "What if we wanted to make a substitution?"
   ]
  },
  {
   "cell_type": "code",
   "execution_count": 76,
   "metadata": {
    "collapsed": false,
    "deletable": true,
    "editable": true
   },
   "outputs": [
    {
     "data": {
      "image/png": "[encoded data removed]",
      "text/latex": [
       "$$\\frac{\\alpha^{2} \\sqrt{3 \\alpha - 2}}{\\left(\\alpha + 1\\right)^{2}}$$"
      ],
      "text/plain": [
       " 2   _________\n",
       "α ⋅╲╱ 3⋅α - 2 \n",
       "──────────────\n",
       "          2   \n",
       "   (α + 1)    "
      ]
     },
     "execution_count": 76,
     "metadata": {},
     "output_type": "execute_result"
    }
   ],
   "source": [
    "y.subs(x,alpha)"
   ]
  },
  {
   "cell_type": "code",
   "execution_count": null,
   "metadata": {
    "collapsed": true,
    "deletable": true,
    "editable": true
   },
   "outputs": [],
   "source": []
  }
 ],
 "metadata": {
  "hide_input": false,
  "kernelspec": {
   "display_name": "Python 3",
   "language": "python",
   "name": "python3"
  },
  "language_info": {
   "codemirror_mode": {
    "name": "ipython",
    "version": 3
   },
   "file_extension": ".py",
   "mimetype": "text/x-python",
   "name": "python",
   "nbconvert_exporter": "python",
   "pygments_lexer": "ipython3",
   "version": "3.5.3"
  },
  "latex_envs": {
   "bibliofile": "biblio.bib",
   "cite_by": "apalike",
   "current_citInitial": 1,
   "eqLabelWithNumbers": true,
   "eqNumInitial": 0
  }
 },
 "nbformat": 4,
 "nbformat_minor": 0
}
